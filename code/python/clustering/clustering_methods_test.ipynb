{
 "cells": [
  {
   "cell_type": "code",
   "execution_count": null,
   "metadata": {},
   "outputs": [],
   "source": [
    "import os\n",
    "import networkx as nx\n",
    "import numpy as np\n",
    "import pandas as pd\n",
    "import matplotlib.pyplot as plt\n",
    "%matplotlib inline\n",
    "from clustering_methods import get_C_greedy, get_C_unc, get_C_rand, get_C_rand_CM, get_C_Havel_Hakimi"
   ]
  },
  {
   "cell_type": "code",
   "execution_count": null,
   "metadata": {},
   "outputs": [],
   "source": [
    "network = 'ca-netscience'\n",
    "full_path = os.path.join('../../../networks/real', network, network + '.txt')\n",
    "g = nx.read_edgelist(full_path)\n",
    "edgelist = list(g.edges())\n",
    "degSeq = list(dict(nx.degree(g)).values())\n",
    "C = nx.transitivity(g)\n",
    "print('Computing C_greedy')\n",
    "C_greedy = get_C_greedy(degSeq)\n",
    "print('Computing C_unc')\n",
    "C_unc = get_C_unc(degSeq)\n",
    "#print('Computing C_rand')\n",
    "#C_rand = get_C_rand(edgelist, n_samples=1000)\n",
    "C_rand = get_C_rand_CM(degSeq)\n",
    "print('Computing C_HH')\n",
    "C_HH = get_C_Havel_Hakimi(degSeq)"
   ]
  },
  {
   "cell_type": "code",
   "execution_count": null,
   "metadata": {},
   "outputs": [],
   "source": [
    "networks = ['bio-celegans',\n",
    "            'bio-yeast',\n",
    "            'bio-diseasome',\n",
    "            'ca-netscience',\n",
    "            'ca-GrQc']\n",
    "\n",
    "data = []\n",
    "for network in networks:\n",
    "    print(network)\n",
    "    full_path = os.path.join('../../../networks/real', network, network + '.txt')\n",
    "    g = nx.read_edgelist(full_path)\n",
    "    C, C_rand, C_greedy, C_norm = compute_C_values(g)\n",
    "    data.append([network, C, C_rand, C_greedy, C_norm])"
   ]
  },
  {
   "cell_type": "code",
   "execution_count": null,
   "metadata": {},
   "outputs": [],
   "source": [
    "columns = ['network', 'C', 'Crand', 'Cgreedy', 'Cnorm']\n",
    "df = pd.DataFrame(data, columns=columns)\n",
    "df"
   ]
  },
  {
   "cell_type": "code",
   "execution_count": null,
   "metadata": {},
   "outputs": [],
   "source": [
    "C_values = df.C\n",
    "C_norm_values = df.Cnorm\n",
    "\n",
    "fig, ax = plt.subplots()\n",
    "ax.plot(C_values, C_norm_values, 'o')\n",
    "X = np.linspace(0, 1, 100)\n",
    "ax.plot(X, X, '--', color='k')\n",
    "plt.show()"
   ]
  },
  {
   "cell_type": "code",
   "execution_count": null,
   "metadata": {},
   "outputs": [],
   "source": [
    "print('C_rand =', C_rand.mean(), C_rand.std())\n",
    "print('C_unc\\tC\\tC_HH\\tC_greedy')\n",
    "print(C_unc, C, C_HH, C_greedy)"
   ]
  },
  {
   "cell_type": "code",
   "execution_count": null,
   "metadata": {},
   "outputs": [],
   "source": []
  }
 ],
 "metadata": {
  "kernelspec": {
   "display_name": "Python [conda env:networks3] *",
   "language": "python",
   "name": "conda-env-networks3-py"
  },
  "language_info": {
   "codemirror_mode": {
    "name": "ipython",
    "version": 3
   },
   "file_extension": ".py",
   "mimetype": "text/x-python",
   "name": "python",
   "nbconvert_exporter": "python",
   "pygments_lexer": "ipython3",
   "version": "3.7.3"
  }
 },
 "nbformat": 4,
 "nbformat_minor": 2
}
